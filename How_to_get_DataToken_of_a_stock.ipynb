{
  "nbformat": 4,
  "nbformat_minor": 0,
  "metadata": {
    "colab": {
      "name": "How to get DataToken of a stock",
      "provenance": [],
      "collapsed_sections": [],
      "authorship_tag": "ABX9TyO9GOTXV08A893LiteJhUDL",
      "include_colab_link": true
    },
    "kernelspec": {
      "name": "python3",
      "display_name": "Python 3"
    }
  },
  "cells": [
    {
      "cell_type": "markdown",
      "metadata": {
        "id": "view-in-github",
        "colab_type": "text"
      },
      "source": [
        "<a href=\"https://colab.research.google.com/github/aeron7/nsequant/blob/main/How_to_get_DataToken_of_a_stock.ipynb\" target=\"_parent\"><img src=\"https://colab.research.google.com/assets/colab-badge.svg\" alt=\"Open In Colab\"/></a>"
      ]
    },
    {
      "cell_type": "markdown",
      "metadata": {
        "id": "ffznJ_joCRSd"
      },
      "source": [
        "**For Any Doubts Ask in Unofficed Forum (https://www.unofficed.com/chat/)**"
      ]
    },
    {
      "cell_type": "code",
      "metadata": {
        "id": "aAVt-b94_cWF"
      },
      "source": [
        "#Method 1 - Using Kite Authentication Token\r\n",
        "\r\n",
        "import logging\r\n",
        "from kiteconnect import KiteConnect\r\n",
        "\r\n",
        "logging.basicConfig(level=logging.DEBUG)\r\n",
        "\r\n",
        "kite = KiteConnect(api_key=\"your_api_key\")\r\n",
        "\r\n",
        "# Redirect the user to the login url obtained\r\n",
        "# from kite.login_url(), and receive the request_token\r\n",
        "# from the registered redirect url after the login flow.\r\n",
        "# Once you have the request_token, obtain the access_token\r\n",
        "# as follows.\r\n",
        "\r\n",
        "data = kite.generate_session(\"request_token_here\", api_secret=\"your_secret\")\r\n",
        "kite.set_access_token(data[\"access_token\"])\r\n",
        "\r\n",
        "\r\n",
        "import pandas as pd\r\n",
        "\r\n",
        "#instrumentcsv = 'instruments.csv' #Local Path of Instrument File goes here\r\n",
        "#instrumentList = pd.read_csv(instrumentcsv) #Calling the File\r\n",
        "\r\n",
        "instrumentList = pd.DataFrame(kite.instruments()).to_csv(instrumentcsv)\r\n",
        "#instrumentList.to_csv(instrumentcsv) #Saving to Local CSV File"
      ],
      "execution_count": null,
      "outputs": []
    },
    {
      "cell_type": "code",
      "metadata": {
        "colab": {
          "base_uri": "https://localhost:8080/",
          "height": 402
        },
        "id": "ThfFjcSo_89y",
        "outputId": "29dd543d-b23b-436f-9aac-617256f8d53e"
      },
      "source": [
        "#Method 2 - Not Using Kite Authentication Token\r\n",
        "\r\n",
        "import pandas as pd\r\n",
        "\r\n",
        "#instrumentcsv = 'instruments.csv' #Local Path of Instrument File goes here\r\n",
        "#instrumentList = pd.read_csv(instrumentcsv) #Calling the File\r\n",
        "\r\n",
        "instrumentList = pd.read_csv(\"https://api.kite.trade/instruments\")\r\n",
        "#instrumentList.to_csv(instrumentcsv) #Saving to Local CSV File\r\n",
        "instrumentList"
      ],
      "execution_count": null,
      "outputs": [
        {
          "output_type": "execute_result",
          "data": {
            "text/html": [
              "<div>\n",
              "<style scoped>\n",
              "    .dataframe tbody tr th:only-of-type {\n",
              "        vertical-align: middle;\n",
              "    }\n",
              "\n",
              "    .dataframe tbody tr th {\n",
              "        vertical-align: top;\n",
              "    }\n",
              "\n",
              "    .dataframe thead th {\n",
              "        text-align: right;\n",
              "    }\n",
              "</style>\n",
              "<table border=\"1\" class=\"dataframe\">\n",
              "  <thead>\n",
              "    <tr style=\"text-align: right;\">\n",
              "      <th></th>\n",
              "      <th>instrument_token</th>\n",
              "      <th>exchange_token</th>\n",
              "      <th>tradingsymbol</th>\n",
              "      <th>name</th>\n",
              "      <th>last_price</th>\n",
              "      <th>expiry</th>\n",
              "      <th>strike</th>\n",
              "      <th>tick_size</th>\n",
              "      <th>lot_size</th>\n",
              "      <th>instrument_type</th>\n",
              "      <th>segment</th>\n",
              "      <th>exchange</th>\n",
              "    </tr>\n",
              "  </thead>\n",
              "  <tbody>\n",
              "    <tr>\n",
              "      <th>0</th>\n",
              "      <td>553072134</td>\n",
              "      <td>2160438</td>\n",
              "      <td>EURINR21APR83.5000CE</td>\n",
              "      <td>EURINR</td>\n",
              "      <td>0</td>\n",
              "      <td>2021-04-28</td>\n",
              "      <td>83.50</td>\n",
              "      <td>0.0025</td>\n",
              "      <td>1</td>\n",
              "      <td>CE</td>\n",
              "      <td>BCD-OPT</td>\n",
              "      <td>BCD</td>\n",
              "    </tr>\n",
              "    <tr>\n",
              "      <th>1</th>\n",
              "      <td>553069574</td>\n",
              "      <td>2160428</td>\n",
              "      <td>EURINR21APR83.5000PE</td>\n",
              "      <td>EURINR</td>\n",
              "      <td>0</td>\n",
              "      <td>2021-04-28</td>\n",
              "      <td>83.50</td>\n",
              "      <td>0.0025</td>\n",
              "      <td>1</td>\n",
              "      <td>PE</td>\n",
              "      <td>BCD-OPT</td>\n",
              "      <td>BCD</td>\n",
              "    </tr>\n",
              "    <tr>\n",
              "      <th>2</th>\n",
              "      <td>552996870</td>\n",
              "      <td>2160144</td>\n",
              "      <td>EURINR21APR83.7500CE</td>\n",
              "      <td>EURINR</td>\n",
              "      <td>0</td>\n",
              "      <td>2021-04-28</td>\n",
              "      <td>83.75</td>\n",
              "      <td>0.0025</td>\n",
              "      <td>1</td>\n",
              "      <td>CE</td>\n",
              "      <td>BCD-OPT</td>\n",
              "      <td>BCD</td>\n",
              "    </tr>\n",
              "    <tr>\n",
              "      <th>3</th>\n",
              "      <td>552993542</td>\n",
              "      <td>2160131</td>\n",
              "      <td>EURINR21APR83.7500PE</td>\n",
              "      <td>EURINR</td>\n",
              "      <td>0</td>\n",
              "      <td>2021-04-28</td>\n",
              "      <td>83.75</td>\n",
              "      <td>0.0025</td>\n",
              "      <td>1</td>\n",
              "      <td>PE</td>\n",
              "      <td>BCD-OPT</td>\n",
              "      <td>BCD</td>\n",
              "    </tr>\n",
              "    <tr>\n",
              "      <th>4</th>\n",
              "      <td>552985350</td>\n",
              "      <td>2160099</td>\n",
              "      <td>EURINR21APR84.0000CE</td>\n",
              "      <td>EURINR</td>\n",
              "      <td>0</td>\n",
              "      <td>2021-04-28</td>\n",
              "      <td>84.00</td>\n",
              "      <td>0.0025</td>\n",
              "      <td>1</td>\n",
              "      <td>CE</td>\n",
              "      <td>BCD-OPT</td>\n",
              "      <td>BCD</td>\n",
              "    </tr>\n",
              "    <tr>\n",
              "      <th>...</th>\n",
              "      <td>...</td>\n",
              "      <td>...</td>\n",
              "      <td>...</td>\n",
              "      <td>...</td>\n",
              "      <td>...</td>\n",
              "      <td>...</td>\n",
              "      <td>...</td>\n",
              "      <td>...</td>\n",
              "      <td>...</td>\n",
              "      <td>...</td>\n",
              "      <td>...</td>\n",
              "      <td>...</td>\n",
              "    </tr>\n",
              "    <tr>\n",
              "      <th>85124</th>\n",
              "      <td>978945</td>\n",
              "      <td>3824</td>\n",
              "      <td>ZODJRDMKJ</td>\n",
              "      <td>ZODIAC JRD-MKJ</td>\n",
              "      <td>0</td>\n",
              "      <td>NaN</td>\n",
              "      <td>0.00</td>\n",
              "      <td>0.0500</td>\n",
              "      <td>1</td>\n",
              "      <td>EQ</td>\n",
              "      <td>NSE</td>\n",
              "      <td>NSE</td>\n",
              "    </tr>\n",
              "    <tr>\n",
              "      <th>85125</th>\n",
              "      <td>2916865</td>\n",
              "      <td>11394</td>\n",
              "      <td>ZOTA</td>\n",
              "      <td>ZOTA HEALTH CARE</td>\n",
              "      <td>0</td>\n",
              "      <td>NaN</td>\n",
              "      <td>0.00</td>\n",
              "      <td>0.0500</td>\n",
              "      <td>1</td>\n",
              "      <td>EQ</td>\n",
              "      <td>NSE</td>\n",
              "      <td>NSE</td>\n",
              "    </tr>\n",
              "    <tr>\n",
              "      <th>85126</th>\n",
              "      <td>7436801</td>\n",
              "      <td>29050</td>\n",
              "      <td>ZUARI</td>\n",
              "      <td>ZUARI AGRO CHEMICALS</td>\n",
              "      <td>0</td>\n",
              "      <td>NaN</td>\n",
              "      <td>0.00</td>\n",
              "      <td>0.0500</td>\n",
              "      <td>1</td>\n",
              "      <td>EQ</td>\n",
              "      <td>NSE</td>\n",
              "      <td>NSE</td>\n",
              "    </tr>\n",
              "    <tr>\n",
              "      <th>85127</th>\n",
              "      <td>1446657</td>\n",
              "      <td>5651</td>\n",
              "      <td>ZUARIGLOB-BE</td>\n",
              "      <td>ZUARI GLOBAL</td>\n",
              "      <td>0</td>\n",
              "      <td>NaN</td>\n",
              "      <td>0.00</td>\n",
              "      <td>0.0500</td>\n",
              "      <td>1</td>\n",
              "      <td>EQ</td>\n",
              "      <td>NSE</td>\n",
              "      <td>NSE</td>\n",
              "    </tr>\n",
              "    <tr>\n",
              "      <th>85128</th>\n",
              "      <td>4514561</td>\n",
              "      <td>17635</td>\n",
              "      <td>ZYDUSWELL</td>\n",
              "      <td>ZYDUS WELLNESS</td>\n",
              "      <td>0</td>\n",
              "      <td>NaN</td>\n",
              "      <td>0.00</td>\n",
              "      <td>0.0500</td>\n",
              "      <td>1</td>\n",
              "      <td>EQ</td>\n",
              "      <td>NSE</td>\n",
              "      <td>NSE</td>\n",
              "    </tr>\n",
              "  </tbody>\n",
              "</table>\n",
              "<p>85129 rows × 12 columns</p>\n",
              "</div>"
            ],
            "text/plain": [
              "       instrument_token  exchange_token  ...  segment exchange\n",
              "0             553072134         2160438  ...  BCD-OPT      BCD\n",
              "1             553069574         2160428  ...  BCD-OPT      BCD\n",
              "2             552996870         2160144  ...  BCD-OPT      BCD\n",
              "3             552993542         2160131  ...  BCD-OPT      BCD\n",
              "4             552985350         2160099  ...  BCD-OPT      BCD\n",
              "...                 ...             ...  ...      ...      ...\n",
              "85124            978945            3824  ...      NSE      NSE\n",
              "85125           2916865           11394  ...      NSE      NSE\n",
              "85126           7436801           29050  ...      NSE      NSE\n",
              "85127           1446657            5651  ...      NSE      NSE\n",
              "85128           4514561           17635  ...      NSE      NSE\n",
              "\n",
              "[85129 rows x 12 columns]"
            ]
          },
          "metadata": {
            "tags": []
          },
          "execution_count": 10
        }
      ]
    },
    {
      "cell_type": "code",
      "metadata": {
        "id": "nY9sP2W8BUPF"
      },
      "source": [
        "def get_dataToken(tradesymbol,exchange=\"NFO\"):\r\n",
        "    dataToken = instrumentList[(instrumentList['tradingsymbol'] == tradesymbol)&(instrumentList['exchange']==exchange)]\r\n",
        "    return dataToken.exchange_token.iloc[0]"
      ],
      "execution_count": null,
      "outputs": []
    },
    {
      "cell_type": "code",
      "metadata": {
        "colab": {
          "base_uri": "https://localhost:8080/"
        },
        "id": "1nBFo8X5BWWE",
        "outputId": "1fb5f288-cfa7-4553-a666-d72e3c647b21"
      },
      "source": [
        "get_dataToken(\"BANKNIFTY2130435400PE\")"
      ],
      "execution_count": null,
      "outputs": [
        {
          "output_type": "execute_result",
          "data": {
            "text/plain": [
              "53147"
            ]
          },
          "metadata": {
            "tags": []
          },
          "execution_count": 7
        }
      ]
    },
    {
      "cell_type": "code",
      "metadata": {
        "colab": {
          "base_uri": "https://localhost:8080/"
        },
        "id": "vArgi4fOBaeu",
        "outputId": "631352a3-a744-49f8-c5e1-883d8ca4c51b"
      },
      "source": [
        "get_dataToken(\"SBIN\",\"NSE\")"
      ],
      "execution_count": null,
      "outputs": [
        {
          "output_type": "execute_result",
          "data": {
            "text/plain": [
              "3045"
            ]
          },
          "metadata": {
            "tags": []
          },
          "execution_count": 8
        }
      ]
    }
  ]
}